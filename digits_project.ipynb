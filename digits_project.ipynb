{
  "nbformat": 4,
  "nbformat_minor": 0,
  "metadata": {
    "colab": {
      "name": "digits_project.ipynb",
      "provenance": [],
      "collapsed_sections": [
        "ql_FDtDXoNib"
      ],
      "machine_shape": "hm",
      "include_colab_link": true
    },
    "kernelspec": {
      "display_name": "Python 3",
      "name": "python3"
    },
    "accelerator": "GPU"
  },
  "cells": [
    {
      "cell_type": "markdown",
      "metadata": {
        "id": "view-in-github",
        "colab_type": "text"
      },
      "source": [
        "<a href=\"https://colab.research.google.com/github/davidabelin/capstone_project_udacity_mle/blob/main/digits_project.ipynb\" target=\"_parent\"><img src=\"https://colab.research.google.com/assets/colab-badge.svg\" alt=\"Open In Colab\"/></a>"
      ]
    },
    {
      "cell_type": "markdown",
      "metadata": {
        "id": "YHK6DyunSbs4"
      },
      "source": [
        "# Handwritten Arithmetic"
      ]
    },
    {
      "cell_type": "code",
      "metadata": {
        "id": "PLy3pthUS0D2",
        "cellView": "form"
      },
      "source": [
        "#@title IMPORTS\n",
        "%matplotlib inline\n",
        "import matplotlib.pyplot as plt\n",
        "import matplotlib.image as Image\n",
        "#import seaborn as sbn\n",
        "\n",
        "import zipfile\n",
        "import math\n",
        "import random as rd\n",
        "import numpy as np\n",
        "import pandas as pd\n",
        "#import os, signal\n",
        "from IPython.display import clear_output\n",
        "\n",
        "import tensorflow as tf\n",
        "from tensorflow.keras import layers\n",
        "from tensorflow.keras import Model\n",
        "#from tensorflow.keras.layers import Dense, Flatten, Conv2D, MaxPooling2D, InputLayer, Input\n",
        "from tensorflow.keras.optimizers import RMSprop, Adam"
      ],
      "execution_count": null,
      "outputs": []
    },
    {
      "cell_type": "code",
      "metadata": {
        "id": "u8Y3AFF5pgJZ",
        "colab": {
          "base_uri": "https://localhost:8080/"
        },
        "outputId": "212629c8-a600-4322-a404-d0d566497626"
      },
      "source": [
        "#@title VARIABLES\n",
        "#Load raw MNIST data as numpy arrays\n",
        "mnist = tf.keras.datasets.mnist\n",
        "traintuple, testuple = mnist.load_data()\n",
        " \n",
        "N_val = 1000\n",
        "N_test = 1000\n",
        "N_train = 10000\n",
        "image_size = (28,56) # shape of target image\n",
        "epochs = 4\n",
        "batch_size = 100 #1000\n",
        "learning_rate = 0.005\n",
        " \n",
        "model_kinds = [\"miniNN\", \"CNN\", \"DNN\", \"comboNN\", \"ocNN\"]\n",
        "noise_levels = [\"no\", \"low\", \"high\", \"var\"]\n",
        "noise2condition = {nc:d for (nc,d) in zip(noise_levels,\n",
        "                                           [\"No noise\", \"Low noise\", \n",
        "                                            \"High noise\", \"Variable noise\"])} \n",
        "training_keys = []\n",
        "for nc in noise_levels:\n",
        "    for k in model_kinds:\n",
        "        training_keys.append((k,nc))\n",
        " \n",
        "# Same Input layer for all models\n",
        "input_layer = layers.Input(shape=(image_size[0], image_size[1], 1))"
      ],
      "execution_count": null,
      "outputs": [
        {
          "output_type": "stream",
          "text": [
            "Downloading data from https://storage.googleapis.com/tensorflow/tf-keras-datasets/mnist.npz\n",
            "11493376/11490434 [==============================] - 0s 0us/step\n"
          ],
          "name": "stdout"
        }
      ]
    },
    {
      "cell_type": "markdown",
      "metadata": {
        "id": "UY6KJV6z6l7_"
      },
      "source": [
        "# Construct the Input Data"
      ]
    },
    {
      "cell_type": "code",
      "metadata": {
        "id": "6X6jzIZm1vDZ",
        "colab": {
          "base_uri": "https://localhost:8080/"
        },
        "cellView": "form",
        "outputId": "f854faa0-e6f8-4ad0-ab20-b300d9cd0fd6"
      },
      "source": [
        "#@title Define Functions\n",
        "def scale_array(arr):\n",
        "    '''Scale an array of numbers.\n",
        "        Params: numpy array of values to be scaled\n",
        "        Returns: the same array with values scaled to (0,1)\n",
        "    '''\n",
        "    max = np.max(arr)\n",
        "    min = np.min(arr)\n",
        "    scaled = (arr - min)/(max - min)\n",
        "    return scaled\n",
        "print(\"Loaded function scale_array(arr)\")\n",
        "\n",
        "def get_noise(image, noise_condition=\"var\"):\n",
        "    ''' Add a normal disitribution of noise to an image\n",
        "        Params: image: numpy array with values (0,1)\n",
        "                noise_factor: one of \"no\", \"low\", \"high\", \"var\"\n",
        "        Returns: noisy image array re-normalized to (0,1)\n",
        "    '''\n",
        "    cond2num = {\"no\":0, \n",
        "                \"low\":0.3, \n",
        "                \"high\":1.3, \n",
        "                \"var\":rd.random()}\n",
        "    noise_factor = np.std(image)*cond2num[noise_condition]\n",
        "    noise = np.random.normal(np.mean(image), \n",
        "                             noise_factor, \n",
        "                             size=image.shape)\n",
        "    ## TODO: Unfortunately have to call scale_array() for second time\n",
        "    # Renormalize combined image to (0,1)\n",
        "    return scale_array(noise + image)\n",
        "print(\"Loaded function get_noise(image, noise_condition)\")\n",
        "\n",
        "def doubleDigits(datatuple, nc=\"no\"):\n",
        "    ''' Merge two single-digit images into one double-digit image.\n",
        "        Params: images: np.array with shape (N,28,28), values 0 to 255\n",
        "                answers: np.array with shape (N,), values 0 to 9\n",
        "                nf: \"noise factor\" (float) is multiples/fractions of image std\n",
        "        Returns: noisy double-digit image as a numpy array with shape (28,56),\n",
        "                with values normed to (0.0, 1.0); \n",
        "                and the corresponding label, with values now 0 to 99\n",
        "    '''\n",
        "    (images,answers)=datatuple  # or x, y\n",
        "    \n",
        "    # Randomly select left and right single digit images\n",
        "    # with values 0 to 9, from the same raw data training\n",
        "    # set of 60000 images\n",
        "    left_index = rd.randrange(0, len(answers))   \n",
        "    right_index = rd.randrange(0, len(answers))\n",
        "    # Calculate double digit label 0 to 99\n",
        "    answer = answers[left_index]*10 + answers[right_index]\n",
        "    \n",
        "    # Have to scale them here because they have\n",
        "    # different distributions of pixel values\n",
        "    left_scaled = scale_array(images[left_index])\n",
        "    right_scaled = scale_array(images[right_index])\n",
        "\n",
        "    # Make background array with shape (28,56)\n",
        "    image = np.zeros(image_size)\n",
        "    # Group digits closer to middle of new image\n",
        "    width = image_size[1]\n",
        "    half_width = width//2  \n",
        "    # Shift left digit to the right\n",
        "    image[:,8:half_width+4] += left_scaled[:,4:half_width]\n",
        "    # Shift right digit to the left\n",
        "    image[:,half_width-4:width-8] += right_scaled[:,0:half_width-4]\n",
        "\n",
        "    # Add noise to the new double digit image\n",
        "    ### TODO: Which will scale it again for second time to [0,1] ###\n",
        "    # Call get_noise() to overlay a Normal distribution\n",
        "    # of random pixel values centered on the mean of pixel values\n",
        "    # in the image and with \"noise_factor\" as the width of the\n",
        "    # distribution, from 0 (no distortion) to +inf (uniform distribution),\n",
        "    # in multiples or fractions of the standard deviation of the\n",
        "    # pixel values in image, and rescale pixel values to (0,1)\n",
        "    image = get_noise(image, nc)  \n",
        "    return image, int(answer)              \n",
        "print(\"Loaded function doubleDigits(datatuple, nc=no)\")\n",
        "\n",
        "def getDoubleDigits(datatuple, how_many=1, nc=\"no\"):\n",
        "    ''' Aggregate a given number of two-digit images, with or without noise\n",
        "        Params: image array of size (N, (image size)),\n",
        "                answers array of size (N,)\n",
        "        Returns: a single 28x56 double-digit image and\n",
        "                 the corresponding array of int labels\n",
        "    '''\n",
        "    yy = np.zeros((how_many,),dtype=int)\n",
        "    xx = np.zeros((how_many, image_size[0], image_size[1]))\n",
        "    for i in range(how_many):\n",
        "        dd, ans = doubleDigits(datatuple, nc)\n",
        "        yy[i] = ans\n",
        "        xx[i] = dd\n",
        "    return (xx, yy)\n",
        "print(\"Loaded function getDoubleDigits(datatuple,how_many=1,nc=no)\")\n",
        "\n",
        "def plotLearningCurves(history):\n",
        "    acc = history['acc']\n",
        "    val_acc = history['val_acc']\n",
        "    loss = history['loss']\n",
        "    val_loss = history['val_loss']\n",
        "    epochs = range(len(acc))\n",
        "    plt.plot(epochs, acc)\n",
        "    plt.plot(epochs, val_acc)\n",
        "    plt.title('Training and validation accuracy')\n",
        "print(\"Loaded function plotLearningCurves(history)\")\n",
        "\n",
        "def guessing(model,n=1,return_image=False):\n",
        "    answers, guesses, pA, pG = [],[],[],[]\n",
        "    for count in range(n):\n",
        "        rindex = rd.randrange(y_test.shape[0])\n",
        "        ans = y_test[rindex]\n",
        "        img = x_test[rindex]\n",
        "        img = img.reshape((1,) + img.shape)    # eg. 1x50x50x1\n",
        "        guess_set = model.predict(img).flatten()\n",
        "        guess = np.argmax(guess_set)\n",
        "        answers += [ans]\n",
        "        guesses += [guess]\n",
        "        pG += [guess_set[guess]]\n",
        "        pA += [guess_set[ans]]\n",
        "\n",
        "        print(\"Answer\",ans,\"\\tGuess\",guess, \"\\tp(A)\",round(pA[count],2),\"\\tp(G)\",round(pG[count],2))\n",
        "        if count%10 == 0:\n",
        "            print ('Processing...',count,\"...\")\n",
        "            clear_output(wait=True)\n",
        "\n",
        "    if return_image:\n",
        "        return answers, guesses, pA, pG, img\n",
        "    else:\n",
        "        return answers, guesses, pA, pG\n",
        "print(\"Loaded function guessing(model,n=1,return_image=False)\")\n",
        "\n",
        "def get_guesses(m,n=1):\n",
        "    results = pd.DataFrame(columns=['Answer','Guess','P(A)','P(G)'])\n",
        "    results['Answer'],\n",
        "    results['Guess'],\n",
        "    results['P(A)'],\n",
        "    results['P(G)'] = guessing(n, m) \n",
        "    return results\n",
        "print(\"Loaded function get_guesses(m,n=1)\")\n",
        "\n",
        "def show_layers(model, output_model):\n",
        "    # Take random image from the training set.\n",
        "    rindex = rd.randrange(y_test.shape[0])\n",
        "    ans = y_test[rindex]\n",
        "    img = x_test[rindex]\n",
        "    img = img.reshape((1,) + img.shape)    # np shape (1, 28, 28, 1)\n",
        "    gue = model.predict(img)\n",
        "    print(\"Answer:\",ans, \"\\tGuess:\",np.argmax(gue))\n",
        "    plt.figure(figsize=(3,3))\n",
        "    plt.imshow(img[0,:,:,0], cmap=\"binary_r\")                 # np shape (28, 28)\n",
        "\n",
        "    layer_output_maps = output_model.predict( img )\n",
        "    layer_names = [layer.name for layer in model.layers[1:]]\n",
        "    for layer_name, layer_map in zip(layer_names, layer_output_maps):\n",
        "        if len(layer_map.shape) == 4:# and not 'max_pooling' in layer_name:\n",
        "            n_maps = layer_map.shape[-1]  # number of maps\n",
        "            if n_maps > 10:\n",
        "                n_maps = 10\n",
        "            # Map has shape (1, rows, columns, n_features)\n",
        "            rows = layer_map.shape[1]\n",
        "            cols = layer_map.shape[2]\n",
        "            image_grid = np.zeros((rows, cols * n_maps))\n",
        "            \n",
        "            for i in range(n_maps):\n",
        "                x = layer_map[0, :, :, i]\n",
        "                x *= 255.0\n",
        "                image_grid[:, i * cols : (i + 1) * cols] = x\n",
        "                image_grid[:,i*cols] = 255.\n",
        "                image_grid[:,i*cols+1] = 0.\n",
        "                \n",
        "            scale = 2.           \n",
        "            plt.figure(figsize=(scale * n_maps, scale))\n",
        "            plt.title(layer_name)\n",
        "            plt.grid(False)\n",
        "            plt.imshow(image_grid, cmap='gray')\n",
        "print(\"Loaded function show_layers(model, output_model)\")"
      ],
      "execution_count": null,
      "outputs": [
        {
          "output_type": "stream",
          "text": [
            "Loaded function scale_array(arr)\n",
            "Loaded function get_noise(image, noise_condition)\n",
            "Loaded function doubleDigits(datatuple, nc=no)\n",
            "Loaded function getDoubleDigits(datatuple,how_many=1,nc=no)\n",
            "Loaded function plotLearningCurves(history)\n",
            "Loaded function guessing(model,n=1,return_image=False)\n",
            "Loaded function get_guesses(m,n=1)\n",
            "Loaded function show_layers(model, output_model)\n"
          ],
          "name": "stdout"
        }
      ]
    },
    {
      "cell_type": "code",
      "metadata": {
        "id": "oekONaV-CcrI",
        "colab": {
          "base_uri": "https://localhost:8080/",
          "height": 218
        },
        "outputId": "a4511106-51e4-4738-ef81-668735788a4e"
      },
      "source": [
        "x, y = getDoubleDigits(traintuple, nc=\"var\")\n",
        "\n",
        "print('Answer:',y[0]) \n",
        "plt.imshow(x[0])#, cmap='gray')"
      ],
      "execution_count": null,
      "outputs": [
        {
          "output_type": "stream",
          "text": [
            "Answer: 88\n"
          ],
          "name": "stdout"
        },
        {
          "output_type": "execute_result",
          "data": {
            "text/plain": [
              "<matplotlib.image.AxesImage at 0x7f9b32c64fd0>"
            ]
          },
          "metadata": {
            "tags": []
          },
          "execution_count": 4
        },
        {
          "output_type": "display_data",
          "data": {
            "image/png": "[encoded data removed]",
            "text/plain": [
              "<Figure size 432x288 with 1 Axes>"
            ]
          },
          "metadata": {
            "tags": [],
            "needs_background": "light"
          }
        }
      ]
    },
    {
      "cell_type": "code",
      "metadata": {
        "id": "4YQljE-wizDw",
        "colab": {
          "base_uri": "https://localhost:8080/"
        },
        "outputId": "94fd1684-cf1a-4a8b-c0b7-8025343daa6d"
      },
      "source": [
        "train_data = {} # {noise:train data}\n",
        "val_data = {}   # {noise:val data}\n",
        "test_data = {}  # {noise:test data}\n",
        "N_train = 100000\n",
        "N_val = 10000\n",
        "N_test = 10000\n",
        "######### GENERATE DD TRAINING DATA FOR ALL NOISE CONDITIONS ###########\n",
        "for nc in noise_levels:\n",
        "    ####### Will make a set of train, val, and test images for each noise level\n",
        "    print (\"Noise level:\", noise2condition[nc])\n",
        "    x_train, y_train = getDoubleDigits(traintuple, N_train, nc=nc)\n",
        "    print(\"Made\",N_train,\"new double-digit images to train on.\")\n",
        "    x_val, y_val = getDoubleDigits(testuple, N_val, nc=nc)\n",
        "    print(\"Made\",N_val,\"new double-digit images to validate on.\")\n",
        "    x_test, y_test = getDoubleDigits(testuple, N_test, nc=nc)\n",
        "    print(\"Made\",N_test,\"new double-digit images to test on.\")\n",
        "\n",
        "    ############## Add a channels dimension\n",
        "    x_train = x_train[..., np.newaxis].astype(\"float32\")\n",
        "    x_val = x_val[..., np.newaxis].astype(\"float32\")\n",
        "    x_test = x_test[..., np.newaxis].astype(\"float32\")\n",
        "\n",
        "    train_data.update({nc:(x_train, y_train)})\n",
        "    val_data.update({nc:(x_val, y_val)}) \n",
        "    test_data.update({nc:(x_test, y_test)})\n",
        "    "
      ],
      "execution_count": null,
      "outputs": [
        {
          "output_type": "stream",
          "text": [
            "Noise level: No noise\n"
          ],
          "name": "stdout"
        }
      ]
    },
    {
      "cell_type": "markdown",
      "metadata": {
        "id": "5oqBkNBJmtUv"
      },
      "source": [
        "# Build models"
      ]
    },
    {
      "cell_type": "markdown",
      "metadata": {
        "id": "wms7hTPSWgHf"
      },
      "source": [
        "## The models"
      ]
    },
    {
      "cell_type": "markdown",
      "metadata": {
        "id": "dSW51o6pEqRE"
      },
      "source": [
        "###Baseline model"
      ]
    },
    {
      "cell_type": "code",
      "metadata": {
        "id": "Vxf-HizVEpaa"
      },
      "source": [
        "###################### baseline model \"miniNN\"\n",
        "def buildminiNN(noise=\"\"):\n",
        "    x = layers.Flatten()(input_layer)\n",
        "    output_layer = layers.Dense(100, activation='softmax')(x)\n",
        "\n",
        "    miniNN = Model(input_layer, output_layer, name=\"miniNN_\"+noise)\n",
        "#miniNN.summary()"
      ],
      "execution_count": null,
      "outputs": []
    },
    {
      "cell_type": "markdown",
      "metadata": {
        "id": "Jw9adjX4EuqD"
      },
      "source": [
        "###CNN"
      ]
    },
    {
      "cell_type": "code",
      "metadata": {
        "id": "NqkMcZKCpOAa"
      },
      "source": [
        "###################### Build CNN\n",
        "def buildCNN(noise=\"\"):\n",
        "    x = layers.Conv2D(20, 2, padding='same', activation='relu')(input_layer)\n",
        "    x = layers.AveragePooling2D(2)(x)\n",
        "    x = layers.Conv2D(30, 3, activation='relu')(x) \n",
        "    x = layers.MaxPooling2D(2)(x)\n",
        "    x = layers.Flatten()(x)\n",
        "    output_layer = layers.Dense(100, activation='softmax')(x)\n",
        "\n",
        "    CNN = Model(input_layer, output_layer, name=\"CNN_\"+noise)\n",
        "\n",
        "    ####################### Layer-outputs model for visualization\n",
        "    layer_outputs = [layer.output for layer in CNN.layers[1:]]\n",
        "    CNN_outputs = Model(input_layer, layer_outputs)\n",
        "\n",
        "    #CNN.summary()"
      ],
      "execution_count": null,
      "outputs": []
    },
    {
      "cell_type": "markdown",
      "metadata": {
        "id": "t0b4RxyITNgs"
      },
      "source": [
        "### Dense NN"
      ]
    },
    {
      "cell_type": "code",
      "metadata": {
        "id": "Zm37Ttk98_ZC"
      },
      "source": [
        "################### Build DNN\n",
        "x = layers.Flatten()(input_layer)\n",
        "x = layers.Dense(1000, activation='relu')(x)\n",
        "x = layers.Dropout(0.3)(x)\n",
        "x = layers.Dense(500, activation='relu')(x) \n",
        "x = layers.Dropout(0.1)(x)\n",
        "output_layer = layers.Dense(100, activation='softmax')(x)\n",
        "DNN = Model(input_layer, output_layer, name=\"DNN\")\n",
        "DNN.summary()"
      ],
      "execution_count": null,
      "outputs": []
    },
    {
      "cell_type": "markdown",
      "metadata": {
        "id": "dvZ1ITdk8M_A"
      },
      "source": [
        "### Mixed model"
      ]
    },
    {
      "cell_type": "code",
      "metadata": {
        "id": "UkK2bOVgroVO"
      },
      "source": [
        "##################### Hybrid CNN/DNN: comboNN\n",
        "x = input_layer #same as the others\n",
        "x = layers.Conv2D(20, 3, activation='relu')(input_layer)\n",
        "x = layers.AveragePooling2D(2)(x)\n",
        "x = layers.Flatten()(x)\n",
        "x = layers.Dense(200, activation='relu')(x)\n",
        "x = layers.Dropout(0.2)(x)\n",
        "output_layer = layers.Dense(100, activation='softmax')(x)\n",
        "comboNN = Model(input_layer, output_layer, name=\"comboNN\")\n",
        "\n",
        "comboNN.summary()"
      ],
      "execution_count": null,
      "outputs": []
    },
    {
      "cell_type": "markdown",
      "metadata": {
        "id": "plSaSqE970wE"
      },
      "source": [
        "###Overcomplicated Model"
      ]
    },
    {
      "cell_type": "code",
      "metadata": {
        "id": "wjbng1RWBt-s"
      },
      "source": [
        "###### OVERCOMPLICATED MODEL ocNN ########### \n",
        "#input_layer = layers.Input(shape=(image_size[0], image_size[1], 1))\n",
        "\n",
        "x = layers.Flatten()(input_layer)\n",
        "x = layers.Dense(1000, activation='relu')(x)\n",
        "x = layers.Dropout(0.2)(x)\n",
        "\n",
        "x1 = layers.Dense(600, activation='relu')(x) \n",
        "x1 = layers.Dropout(0.3)(x1)\n",
        "\n",
        "x2 = layers.Dense(200, activation='relu')(x) \n",
        "x2 = layers.Dropout(0.1)(x2)\n",
        "\n",
        "y = layers.Conv2D(20, 2, padding='same', activation='relu')(input_layer)\n",
        "y = layers.MaxPooling2D(2)(y)\n",
        "\n",
        "y1 = layers.Conv2D(20, 3, activation='relu')(y) \n",
        "y1 = layers.AveragePooling2D(2)(y1)\n",
        "y1 = layers.Flatten()(y1)\n",
        "y1 = layers.Dropout(0.2)(y1)\n",
        "\n",
        "y2 = layers.Conv2D(20, 2, activation='relu')(y) \n",
        "y2 = layers.Conv2D(20, 2, activation='relu')(y2)\n",
        "y2 = layers.MaxPooling2D(2)(y2)\n",
        "y2 = layers.Flatten()(y2)\n",
        "y2 = layers.Dropout(0.1)(y2)\n",
        "\n",
        "z1 = layers.Concatenate()([x1,y1])\n",
        "z1 = layers.Dropout(0.3)(z1)\n",
        "\n",
        "z2 = layers.Concatenate()([x2,y2])\n",
        "z2 = layers.Dropout(0.1)(z2)\n",
        "\n",
        "z = layers.Concatenate()([z1,z2])\n",
        "z = layers.Dense(1000,activation=\"relu\")(z)\n",
        "z = layers.Dropout(0.3)(z)\n",
        "\n",
        "logits_layer = layers.Dense(100, activation='softmax')(z) \n",
        "ocNN = Model(input_layer, logits_layer, name=\"ocNN\")\n",
        "\n",
        "####################### Summary / Plot\n",
        "ocNN.summary()\n",
        "#tf.keras.utils.plot_model(ocNN,show_shapes=True)"
      ],
      "execution_count": null,
      "outputs": []
    },
    {
      "cell_type": "code",
      "metadata": {
        "id": "VoJA28PLUsUx"
      },
      "source": [
        "tf.keras.utils.plot_model(ocNN,show_shapes=True)"
      ],
      "execution_count": null,
      "outputs": []
    },
    {
      "cell_type": "markdown",
      "metadata": {
        "id": "SylmPggLPdpf"
      },
      "source": [
        "## Train, compile, and evaluate all models"
      ]
    },
    {
      "cell_type": "code",
      "metadata": {
        "id": "N1BOIdzZa302",
        "cellView": "form"
      },
      "source": [
        "#########################\n",
        "#@title BUILD a MODEL for each NOISE CONDITION\n",
        "\n",
        "def buildModel(key):\n",
        "    (model_kind, noise) = key\n",
        "    input_layer = layers.Input(shape=(image_size[0], image_size[1], 1))\n",
        "    \n",
        "    if \"miniNN\" in model_kind:\n",
        "        ###################### baseline model \"miniNN\"\n",
        "        x = layers.Flatten()(input_layer)\n",
        "        output_layer = layers.Dense(100, activation='softmax')(x)\n",
        "        miniNN = Model(input_layer, output_layer, name=\"miniNN_\"+noise)\n",
        "        print (\"built\", miniNN.name)\n",
        "        return miniNN\n",
        "\n",
        "    elif \"CNN\" in model_kind:\n",
        "        ###################### Build CNN\n",
        "        x = layers.Conv2D(20, 2, padding='same', activation='relu')(input_layer)\n",
        "        x = layers.AveragePooling2D(2)(x)\n",
        "        x = layers.Conv2D(30, 3, activation='relu')(x) \n",
        "        x = layers.MaxPooling2D(2)(x)\n",
        "        x = layers.Flatten()(x)\n",
        "        output_layer = layers.Dense(100, activation='softmax')(x)\n",
        "        CNN = Model(input_layer, output_layer, name=\"CNN_\"+noise)\n",
        "        print (\"built\", CNN.name)\n",
        "        return CNN\n",
        "    \n",
        "    elif \"DNN\" in model_kind:\n",
        "        ################### Build DNN\n",
        "        x = layers.Flatten()(input_layer)\n",
        "        x = layers.Dense(1000, activation='relu')(x)\n",
        "        x = layers.Dropout(0.3)(x)\n",
        "        x = layers.Dense(500, activation='relu')(x) \n",
        "        x = layers.Dropout(0.1)(x)\n",
        "        output_layer = layers.Dense(100, activation='softmax')(x)\n",
        "        DNN = Model(input_layer, output_layer, name=\"DNN_\"+noise)\n",
        "        print (\"built\", DNN.name)\n",
        "        return DNN\n",
        "\n",
        "    elif \"comboNN\" in model_kind:\n",
        "        ##################### Hybrid CNN/DNN: comboNN\n",
        "        x = input_layer #same as the others\n",
        "        x = layers.Conv2D(20, 3, activation='relu')(input_layer)\n",
        "        x = layers.AveragePooling2D(2)(x)\n",
        "        x = layers.Flatten()(x)\n",
        "        x = layers.Dense(200, activation='relu')(x)\n",
        "        x = layers.Dropout(0.2)(x)\n",
        "        output_layer = layers.Dense(100, activation='softmax')(x)\n",
        "        comboNN = Model(input_layer, output_layer, name=\"comboNN_\"+noise)\n",
        "        print (\"built\", comboNN.name)\n",
        "        return comboNN\n",
        "\n",
        "    elif \"ocNN\" in model_kind:\n",
        "        ###### OVERCOMPLICATED MODEL ocNN ########### \n",
        "        x = layers.Flatten()(input_layer)\n",
        "        x = layers.Dense(1000, activation='relu')(x)\n",
        "        x = layers.Dropout(0.2)(x)\n",
        "\n",
        "        x1 = layers.Dense(600, activation='relu')(x) \n",
        "        x1 = layers.Dropout(0.3)(x1)\n",
        "\n",
        "        x2 = layers.Dense(200, activation='relu')(x) \n",
        "        x2 = layers.Dropout(0.1)(x2)\n",
        "\n",
        "        y = layers.Conv2D(20, 2, padding='same', activation='relu')(input_layer)\n",
        "        y = layers.MaxPooling2D(2)(y)\n",
        "\n",
        "        y1 = layers.Conv2D(20, 3, activation='relu')(y) \n",
        "        y1 = layers.AveragePooling2D(2)(y1)\n",
        "        y1 = layers.Flatten()(y1)\n",
        "        y1 = layers.Dropout(0.2)(y1)\n",
        "\n",
        "        y2 = layers.Conv2D(20, 2, activation='relu')(y) \n",
        "        y2 = layers.Conv2D(20, 2, activation='relu')(y2)\n",
        "        y2 = layers.MaxPooling2D(2)(y2)\n",
        "        y2 = layers.Flatten()(y2)\n",
        "        y2 = layers.Dropout(0.1)(y2)\n",
        "\n",
        "        z1 = layers.Concatenate()([x1,y1])\n",
        "        z1 = layers.Dropout(0.3)(z1)\n",
        "\n",
        "        z2 = layers.Concatenate()([x2,y2])\n",
        "        z2 = layers.Dropout(0.1)(z2)\n",
        "\n",
        "        z = layers.Concatenate()([z1,z2])\n",
        "        z = layers.Dense(1000,activation=\"relu\")(z)\n",
        "        z = layers.Dropout(0.3)(z)\n",
        "\n",
        "        logits_layer = layers.Dense(100, activation='softmax')(z) \n",
        "        ocNN = Model(input_layer, logits_layer, name=\"ocNN_\"+noise)\n",
        "        print (\"built\", ocNN.name)\n",
        "        return ocNN\n",
        "    \n",
        "    else:\n",
        "        print (\"Could not find that kind of model.\")\n",
        "        return None"
      ],
      "execution_count": null,
      "outputs": []
    },
    {
      "cell_type": "code",
      "metadata": {
        "id": "0kvzPo4UUdCd",
        "cellView": "form"
      },
      "source": [
        "#@title Compile and Train function\n",
        "## Same training loop for all models, with same compiler too\n",
        "def train(model, traintuple, valtuple, epochs=4):\n",
        "    '''Train a model on the given sets of data\n",
        "        Params: the given model,\n",
        "                the train data as a tuple of x,y,\n",
        "                the test data as a tuple of x,y\n",
        "        Returns: a dictionary of metric values after each epoch of training\n",
        "    '''\n",
        "    (x_train, y_train) = traintuple\n",
        "    (x_val, y_val) = valtuple\n",
        "\n",
        "    history = model.fit(x=x_train,\n",
        "                        y=y_train,\n",
        "                        batch_size=batch_size,\n",
        "                        validation_data=(x_val, y_val),\n",
        "                        #validation_split=0.01,\n",
        "                        epochs=epochs,  \n",
        "                        verbose=1)   \n",
        "    return history.history\n",
        "print(\"loaded function train(model, traintuple, testuple, epochs=4)\")\n",
        "\n",
        "def compile_model(model):    \n",
        "    model.compile(  loss=\"sparse_categorical_crossentropy\",\n",
        "                    optimizer=Adam(lr=learning_rate),\n",
        "                    metrics=['acc'])\n",
        "    print (\"Compiled model\", model.name)\n",
        "print(\"loaded function compile_model(model)\")"
      ],
      "execution_count": null,
      "outputs": []
    },
    {
      "cell_type": "code",
      "metadata": {
        "id": "hu2_-h-uEfJ9"
      },
      "source": [
        "#################### Build all 20 models and store in dict getModel\n",
        "getModel = {}\n",
        "for key in training_keys: \n",
        "     model = buildModel(key)\n",
        "     getModel.update({key:model})\n",
        "list(getModel.keys())"
      ],
      "execution_count": null,
      "outputs": []
    },
    {
      "cell_type": "code",
      "metadata": {
        "id": "jP2VqeELLpGX"
      },
      "source": [
        "####################### Compile and Train all 20 models\n",
        "stats = {}\n",
        "for key in training_keys:    \n",
        "    nc = key[1]\n",
        "    model = getModel[key]\n",
        "    compile_model(model)\n",
        "    train_stats = train(model, train_data[nc], val_data[nc], epochs=epochs)\n",
        "    stats.update({key:train_stats})"
      ],
      "execution_count": null,
      "outputs": []
    },
    {
      "cell_type": "code",
      "metadata": {
        "id": "iT8BvV8N_6Lv"
      },
      "source": [
        "plotLearningCurves(stats[rd.choice(training_keys)])"
      ],
      "execution_count": null,
      "outputs": []
    },
    {
      "cell_type": "markdown",
      "metadata": {
        "id": "0m94196ctr4T"
      },
      "source": [
        "##Evaluation and Results"
      ]
    },
    {
      "cell_type": "code",
      "metadata": {
        "id": "jTdOu7kTTneQ"
      },
      "source": [
        "############################# Evaluation: ALL MODELS, ALL NOISE LEVELS\n",
        "results = {}\n",
        "evalkeys = []\n",
        "for key in training_keys:\n",
        "    model = getModel[key]\n",
        "    print (\">>>>>>>>>>>>>>> Key:\", key)\n",
        "    for nl in noise_levels:\n",
        "        evalkey = (model.name, nl)\n",
        "        evalkeys += [evalkey]\n",
        "        x, y = test_data[nl]\n",
        "        evaluated = model.evaluate( x=x, y=y, verbose=0, batch_size=50) #500\n",
        "        results.update({evalkey:round(evaluated[1], 4)})\n",
        "        condition = noise2condition[nl]\n",
        "        print(model.name,\"accuracy on\",condition,\":\",round(evaluated[1], 4))"
      ],
      "execution_count": null,
      "outputs": []
    },
    {
      "cell_type": "code",
      "metadata": {
        "id": "xztL8dDrYh-G"
      },
      "source": [
        "#models = model_kinds  #list(set(t[0] for t in training_keys))\n",
        "rows = len(training_keys)\n",
        "results_df = pd.DataFrame(columns=[\"model\"]+[\"trained_on\"]+noise_levels, index=range(rows))\n",
        "for row, (model_kind, train_condition) in enumerate():\n",
        "    results_df.iloc[row][\"model\"]=model_kind\n",
        "    results_df.iloc[row][\"trained_on\"]=noise2condition[train_condition]\n",
        "    for test_condition in noise_levels:                 #TO DO:\n",
        "        results_df.iloc[row][test_condition] = results[(model_kind+\"_\"+train_condition, test_condition)]\n",
        "results_df = results_df.sort_values(\"model\")"
      ],
      "execution_count": null,
      "outputs": []
    },
    {
      "cell_type": "code",
      "metadata": {
        "id": "7rFdiMz388Ns"
      },
      "source": [
        "rows = len(evalkeys)\n",
        "results_df = pd.DataFrame(columns=[\"model\"]+noise_levels, index=range(rows))\n",
        "for row, key in enumerate(evalkeys):\n",
        "    key = (trained_model, eval_cond)\n",
        "    results_df.iloc[row][\"model\"]=model_kind\n",
        "    for en in noise_levels:            \n",
        "        results_df.iloc[row][eval_cond] = results[key]\n",
        "#results_df = results_df.sort_values(\"model\")"
      ],
      "execution_count": null,
      "outputs": []
    },
    {
      "cell_type": "code",
      "metadata": {
        "colab": {
          "base_uri": "https://localhost:8080/"
        },
        "id": "cmSzDJX0U1Wh",
        "outputId": "1ef1b46c-0508-4534-9086-680ea0d89e6f"
      },
      "source": [
        "results[evalkeys[0]]"
      ],
      "execution_count": null,
      "outputs": [
        {
          "output_type": "execute_result",
          "data": {
            "text/plain": [
              "0.7926"
            ]
          },
          "metadata": {
            "tags": []
          },
          "execution_count": 53
        }
      ]
    },
    {
      "cell_type": "code",
      "metadata": {
        "id": "wQY5ItT0I3Il"
      },
      "source": [
        "plt.plot(data=results)"
      ],
      "execution_count": null,
      "outputs": []
    },
    {
      "cell_type": "code",
      "metadata": {
        "colab": {
          "base_uri": "https://localhost:8080/",
          "height": 352
        },
        "id": "6njHBrOixfQ1",
        "outputId": "6ce88124-1b33-4814-e946-bbf8c150b764"
      },
      "source": [
        "results_df.plot(\"model\", [\"no\",\"low\",\"high\",\"var\"], kind='bar')"
      ],
      "execution_count": null,
      "outputs": [
        {
          "output_type": "execute_result",
          "data": {
            "text/plain": [
              "<matplotlib.axes._subplots.AxesSubplot at 0x7f5692678fd0>"
            ]
          },
          "metadata": {
            "tags": []
          },
          "execution_count": 38
        },
        {
          "output_type": "display_data",
          "data": {
            "text/plain": [
              "<Figure size 432x864 with 0 Axes>"
            ]
          },
          "metadata": {
            "tags": []
          }
        },
        {
          "output_type": "display_data",
          "data": {
            "image/png": "[encoded data removed]",
            "text/plain": [
              "<Figure size 432x288 with 1 Axes>"
            ]
          },
          "metadata": {
            "tags": [],
            "needs_background": "light"
          }
        }
      ]
    },
    {
      "cell_type": "markdown",
      "metadata": {
        "id": "w45M0fQcIk9E"
      },
      "source": [
        "_______________________"
      ]
    },
    {
      "cell_type": "markdown",
      "metadata": {
        "id": "ZME7B7N-hykp"
      },
      "source": [
        "## Misc"
      ]
    },
    {
      "cell_type": "code",
      "metadata": {
        "id": "zPdKAhSDYSIq"
      },
      "source": [
        "for h in var_noise_stats.values():\n",
        "    plotLearningCurves(h)"
      ],
      "execution_count": null,
      "outputs": []
    },
    {
      "cell_type": "code",
      "metadata": {
        "id": "IgVhpl2X29A7"
      },
      "source": [
        "answers, guesses, pA, pG, img = guessing(model=miniNN,n=1, return_image=True)\n",
        "print (answers[0], guesses[0])\n",
        "print (pA[0], pG[0])\n",
        "plt.imshow(img[0,:,:,0])"
      ],
      "execution_count": null,
      "outputs": []
    },
    {
      "cell_type": "code",
      "metadata": {
        "id": "1jVH5faO7YyI"
      },
      "source": [
        "plotLearningCurves(combo_metrics)"
      ],
      "execution_count": null,
      "outputs": []
    },
    {
      "cell_type": "code",
      "metadata": {
        "id": "ZshZGT3_zj8U"
      },
      "source": [
        "layer_outputs = [layer.output for layer in comboNN.layers[1:]]\n",
        "combo_outputs = Model(input_layer, layer_outputs)\n",
        "show_layers(comboNN, combo_outputs)"
      ],
      "execution_count": null,
      "outputs": []
    },
    {
      "cell_type": "code",
      "metadata": {
        "id": "_dQJos2jAtCQ"
      },
      "source": [
        "results = get_results(100,mixedNN)\n",
        "tv = results['Guess'] == results['Answer']\n",
        "wrongs = results.loc[~tv]\n",
        "wrongs.sort_values('Answer')"
      ],
      "execution_count": null,
      "outputs": []
    },
    {
      "cell_type": "code",
      "metadata": {
        "id": "mGefd-C-1KtQ"
      },
      "source": [
        "show_layers(CNN, CNN_outputs)"
      ],
      "execution_count": null,
      "outputs": []
    },
    {
      "cell_type": "code",
      "metadata": {
        "id": "m6TY-62wZD-c"
      },
      "source": [
        "predicts = [np.argmax(p) for p in CNN.predict(x_train)]\n",
        "rid = rd.randrange(len(y_train))\n",
        "print (\"Guess:\",predicts[rid], \"Ans:\",y_train[rid])\n",
        "plt.imshow(x_train[rid].reshape((28,56)), cmap=\"gray\")"
      ],
      "execution_count": null,
      "outputs": []
    },
    {
      "cell_type": "markdown",
      "metadata": {
        "id": "jmdmw0ZfG8iP"
      },
      "source": [
        "#### Unnecessary approaches to the data incl. visualization"
      ]
    },
    {
      "cell_type": "code",
      "metadata": {
        "id": "NDEsLTrtEoOp"
      },
      "source": [
        "####################### Layer-outputs model\n",
        "#layer_outputsX = [layer.output for layer in modelX.layers[1:]]\n",
        "#output_modelX = Model(input_layer, layer_outputsX)\n",
        "modelX_neurons = ocNN.variables[0].numpy().T\n",
        "modelX_neurons_df = pd.DataFrame(modelX_neurons)\n",
        "neuronX_df = pd.DataFrame(modelX_neurons[2].reshape((28,56)))\n",
        "#neuronX_df  \n",
        "\n",
        "nxmin = min(neuronX_df.min())\n",
        "nxmax = max(neuronX_df.max())\n",
        "nxmean = np.mean(neuronX_df.mean())\n",
        "nxstd = np.mean(neuronX_df.std())\n",
        "print (nxmin,nxmax,nxmean,nxstd)\n",
        "print (\"nxmin*255, nxmax*255\", nxmin*255, nxmax*255)\n",
        "\n",
        "#neuronX_df *= 255.\n",
        "neuronX_df += nxstd\n",
        "neuronX_df.clip(0,nxmax)\n",
        "#neuronX_df *= 255\n",
        "\n",
        "plt.imshow(neuronX_df)          "
      ],
      "execution_count": null,
      "outputs": []
    },
    {
      "cell_type": "code",
      "metadata": {
        "id": "GbsywoxaP3-y"
      },
      "source": [
        "variables = ocNN.variables[0].numpy()\n",
        "num_nodes = variables.shape[1]\n",
        "num_rows = int(math.ceil(num_nodes / 10.0))\n",
        "fig, axes = plt.subplots(num_rows, 10, figsize=(40, 2 * num_rows))\n",
        "for coef, ax in zip(variables.T, axes.ravel()):\n",
        "    # Weights in coef is reshaped from 1x784 to 28x28.\n",
        "    coef = coef\n",
        "    ax.matshow(coef.reshape(image_size), cmap=plt.cm.viridis)\n",
        "    ax.set_xticks(())\n",
        "    ax.set_yticks(())\n",
        "plt.show()"
      ],
      "execution_count": null,
      "outputs": []
    },
    {
      "cell_type": "code",
      "metadata": {
        "id": "u9tfeF6q2r2N"
      },
      "source": [
        "minimal_results = get_results(100, miniNN)\n",
        "resultsCNN = get_results(100, CNN)\n",
        "resultsOC = get_results(100, ocNN)\n",
        "#resultsX"
      ],
      "execution_count": null,
      "outputs": []
    },
    {
      "cell_type": "code",
      "metadata": {
        "id": "gJ98wKTVy3xR"
      },
      "source": [
        "plt.scatter(minimal_results['Guess'],minimal_results['Answer'])\n",
        "plt.scatter(resultsCNN['Guess'],resultsCNN['Answer'])\n",
        "plt.scatter(resultsOC['Guess'],resultsOC['Answer'])"
      ],
      "execution_count": null,
      "outputs": []
    },
    {
      "cell_type": "code",
      "metadata": {
        "id": "tfPbuESofFCB"
      },
      "source": [
        "tvX = resultsX['Guess'] == resultsX['Answer']\n",
        "wrongsX = resultsX.loc[~tvX]\n",
        "wrongsX.sort_values('Answer')"
      ],
      "execution_count": null,
      "outputs": []
    },
    {
      "cell_type": "code",
      "metadata": {
        "id": "3pTxgNlzfW2H"
      },
      "source": [
        "# \"one shot iterator\"\n",
        "answers, guesses, pA, pG, img = guessing(modelX,n=1, return_image=True)\n",
        "print (\"Label:\", answers[0], \"\\tPredict:\", guesses[0])\n",
        "print (\"pLabel =\",pA[0], \"\\tpPredict = \", pG[0])\n",
        "plt.imshow(img[0,:,:,0],cmap=\"gray\")"
      ],
      "execution_count": null,
      "outputs": []
    },
    {
      "cell_type": "code",
      "metadata": {
        "id": "vSHokwPXVLdU"
      },
      "source": [
        "def showWeights():\n",
        "    weights0 = modelX.weights[0].numpy()\n",
        "    num_nodes = weights0.shape[1]\n",
        "    num_rows = int(math.ceil(num_nodes / 10.0))\n",
        "    fig, axes = plt.subplots(num_rows, 10, figsize=(40, 2 * num_rows))\n",
        "    for coef, ax in zip(weights0.T, axes.ravel()):\n",
        "        # Weights in coef is reshaped from 1x784 to 28x28.\n",
        "        ax.matshow(coef.reshape(image_size), cmap=plt.cm.bone)\n",
        "        ax.set_xticks(())\n",
        "        ax.set_yticks(())\n",
        "    plt.show()\n",
        "\n",
        "showWeights()"
      ],
      "execution_count": null,
      "outputs": []
    },
    {
      "cell_type": "code",
      "metadata": {
        "id": "Of0zTo1-7TDZ"
      },
      "source": [
        "no_noise_miniNN = train(miniNN)"
      ],
      "execution_count": null,
      "outputs": []
    },
    {
      "cell_type": "code",
      "metadata": {
        "id": "sfiS9-4mCBas"
      },
      "source": [
        "CNN.compile(  loss=\"sparse_categorical_crossentropy\",\n",
        "                optimizer=Adam(lr=learning_rate),\n",
        "                metrics=['acc'])\n",
        "\n",
        "history = CNN.fit( x=x_var_noise_train.reshape(...,1),\n",
        "                    y=y_var_noise_train,\n",
        "                    batch_size=batch_size,\n",
        "                    validation_data=(x_var_noise_test, y_var_noise_test),\n",
        "                    #validation_split=0.1,\n",
        "                    epochs=epochs,  \n",
        "                    verbose=1)\n",
        "\n",
        "CNN.evaluate(x_no_noise_test, y_no_noise_test)"
      ],
      "execution_count": null,
      "outputs": []
    },
    {
      "cell_type": "code",
      "metadata": {
        "id": "TPPGJrR_Clf_"
      },
      "source": [
        "CNN.evaluate(x_low_noise_test, y_low_noise_test)"
      ],
      "execution_count": null,
      "outputs": []
    },
    {
      "cell_type": "code",
      "metadata": {
        "id": "UEy3yX3iNk7s"
      },
      "source": [
        "x_var_noise_train .reshape(x_var_noise_train.shape + (1))"
      ],
      "execution_count": null,
      "outputs": []
    },
    {
      "cell_type": "code",
      "metadata": {
        "id": "qcCpnnsUN_DD"
      },
      "source": [
        "xsh = x_var_noise_train.shape\n",
        "clear = clear_output\n",
        "print (\"text\")\n",
        "gDD = getDoubleDigits"
      ],
      "execution_count": null,
      "outputs": []
    },
    {
      "cell_type": "code",
      "metadata": {
        "id": "ORiqnfbwQkai"
      },
      "source": [
        "\n",
        "epochs = 3\n",
        "batch_size = 500\n",
        "learning_rate = 0.005\n",
        "\n",
        "############################# Recompile and Train models under each condition\n",
        "\n",
        "############################# !\n",
        "### s_by_c{cond:{stats}} >> stats{modelname:history} >> history{metric:list}\n",
        "############################# \n",
        "\n",
        "get_stats = {}  # {key:train history}\n",
        "#get_model = \n",
        "#weights_by_condition = {}\n",
        "for nc in noise: \n",
        "    print (\"\\nNoise level:\",nc) \n",
        "    stats = {}\n",
        "    model_weights = {}\n",
        "    for model in model_list:\n",
        "        model = rebuildModel(model)\n",
        "        print (\">>>>>>\\tTraining:\",model.name,\"   <<<<<<\")\n",
        "        trainset = train_data[nc]\n",
        "        testset = test_data[nc]\n",
        "        history = train(model, trainset, testset, epochs=3)\n",
        "        model_weights.update({model.name:model.get_weights()})\n",
        "        stats.update({model.name:history})\n",
        "    \n",
        "    weights_by_condition.update({nc:model_weights})\n",
        "    stats_by_condition.update({nc:stats})"
      ],
      "execution_count": null,
      "outputs": []
    },
    {
      "cell_type": "code",
      "metadata": {
        "id": "yXQv3yXSybGj"
      },
      "source": [
        "# Map has shape (1, rows, columns, n_features)\n",
        "ridx = rd.randrange(0,N_train-5)\n",
        "condit = \"high\"\n",
        "layer_map = train_data[condit][0][ridx:ridx+5] #trainset[0][0:5]\n",
        "rows = layer_map.shape[1]\n",
        "cols = layer_map.shape[2]\n",
        "n_maps = layer_map.shape[0]\n",
        "image_grid = np.zeros((rows, cols * n_maps))\n",
        "\n",
        "for i in range(n_maps):\n",
        "    x = layer_map[i, :, :]\n",
        "    x *= 255.0\n",
        "    image_grid[:, i * cols : (i + 1) * cols] = x\n",
        "    image_grid[:,i*cols] = 255.\n",
        "    image_grid[:,i*cols+1] = 0.\n",
        "    \n",
        "scale = 4           \n",
        "plt.figure(figsize=(scale * n_maps, scale))\n",
        "plt.title(train_data[condit][1][ridx:ridx+5])\n",
        "#plt.grid(False)\n",
        "plt.imshow(image_grid)#, cmap='gray')"
      ],
      "execution_count": null,
      "outputs": []
    },
    {
      "cell_type": "code",
      "metadata": {
        "id": "Jd5v-VptBo1R"
      },
      "source": [
        "for mn in model_names: \n",
        "    xm = name2model[mn]\n",
        "    xm = rebuildModel(xm)\n",
        "    xm.name"
      ],
      "execution_count": null,
      "outputs": []
    }
  ]
}